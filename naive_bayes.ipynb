{
 "cells": [
  {
   "cell_type": "markdown",
   "metadata": {},
   "source": [
    "Importing libraries\n",
    "    1. numpy and pandas for data processing\n",
    "    2. re for regular expressions in data pre-processing\n",
    "    3. nltk for stopword lis, POS tagging and negation marking\n",
    "    4. seaborn for drawing confusion matrices"
   ]
  },
  {
   "cell_type": "code",
   "execution_count": 1,
   "metadata": {},
   "outputs": [
    {
     "name": "stderr",
     "output_type": "stream",
     "text": [
      "[nltk_data] Downloading package stopwords to\n",
      "[nltk_data]     C:\\Users\\Michal\\AppData\\Roaming\\nltk_data...\n",
      "[nltk_data]   Package stopwords is already up-to-date!\n",
      "[nltk_data] Downloading package averaged_perceptron_tagger to\n",
      "[nltk_data]     C:\\Users\\Michal\\AppData\\Roaming\\nltk_data...\n",
      "[nltk_data]   Package averaged_perceptron_tagger is already up-to-\n",
      "[nltk_data]       date!\n"
     ]
    },
    {
     "data": {
      "text/plain": [
       "True"
      ]
     },
     "execution_count": 1,
     "metadata": {},
     "output_type": "execute_result"
    }
   ],
   "source": [
    "import numpy as np\n",
    "import pandas as pd\n",
    "import re\n",
    "import nltk\n",
    "nltk.download('stopwords')\n",
    "from nltk.corpus import stopwords\n",
    "import seaborn as sns\n",
    "from nltk.sentiment import util\n",
    "nltk.download('averaged_perceptron_tagger')"
   ]
  },
  {
   "cell_type": "code",
   "execution_count": 2,
   "metadata": {},
   "outputs": [],
   "source": [
    "#Sentiment mapping\n",
    "\n",
    "#maps 5-value score to 3 value score\n",
    "def five2three(score):\n",
    "    if score == 4 or score == 3:\n",
    "        return 2\n",
    "    elif score == 2:\n",
    "        return 1\n",
    "    elif score == 1 or score == 0:\n",
    "        return 0"
   ]
  },
  {
   "cell_type": "code",
   "execution_count": 3,
   "metadata": {},
   "outputs": [],
   "source": [
    "#Load datasets\n",
    "\n",
    "#load datasets with 5-value scale\n",
    "train5 = pd.read_csv('moviereviews/train.tsv', sep='\\t')\n",
    "dev5 = pd.read_csv('moviereviews/dev.tsv', sep='\\t')\n",
    "test = pd.read_csv('moviereviews/test.tsv', sep='\\t')\n",
    "\n",
    "#create datasets with 3-value scale\n",
    "train3 = train5.copy()\n",
    "train3.Sentiment = train3.Sentiment.apply(five2three)\n",
    "dev3 = dev5.copy()\n",
    "dev3.Sentiment = dev3.Sentiment.apply(five2three)"
   ]
  },
  {
   "cell_type": "markdown",
   "metadata": {},
   "source": [
    "Model class"
   ]
  },
  {
   "cell_type": "code",
   "execution_count": 4,
   "metadata": {},
   "outputs": [],
   "source": [
    "class Model:\n",
    "    \"\"\"Class representing a model\"\"\"\n",
    "    \n",
    "    def __init__(self, train_data, scale, feature_selection=None):\n",
    "        \"\"\"Constructor\n",
    "        \n",
    "        Args:\n",
    "            train_data        (pandas.DataFrame): data from which model is trained\n",
    "            scale             (int): scale for classification (3 or 5)\n",
    "            feature_selection (function): function to be performed on extracted features\n",
    "        \"\"\"\n",
    "        self.scale = scale\n",
    "        # extract all words from training set as features\n",
    "        self.features = self.extract_words(train_data, scale)\n",
    "        # calculate priors\n",
    "        self.priors = self.calc_priors(train_data, scale)\n",
    "        \n",
    "        # if function for feature selection passed, perform feature selection\n",
    "        if feature_selection != None:\n",
    "            self.features = feature_selection(self.features)\n",
    "    \n",
    "    \n",
    "    def calc_priors(self, train_data, scale):\n",
    "        total = train_data.shape[0]\n",
    "        sentiment_count = train_data.groupby(by='Sentiment').count()\n",
    "        priors = np.zeros(scale)\n",
    "        for i in range(scale):\n",
    "            priors[i] = sentiment_count.iloc[i][0] / total\n",
    "        \n",
    "        return priors\n",
    "    \n",
    "    \n",
    "    def extract_words(self, df, scale):\n",
    "        all_words = {}\n",
    "    \n",
    "        for row in df.itertuples(index=False, name=None):\n",
    "            sentiment = row[2]\n",
    "            words = row[1].split(' ')\n",
    "    \n",
    "            for word in words:\n",
    "                if word == '' or word == ' ':\n",
    "                    continue\n",
    "            \n",
    "                if word not in all_words:\n",
    "                    if scale == 3:\n",
    "                        all_words[word] = {'q': 1, 0: 0, 1: 0, 2: 0}\n",
    "                    else:\n",
    "                        all_words[word] = {'q': 1, 0: 0, 1: 0, 2: 0, 3: 0, 4: 0}\n",
    "                    all_words[word][sentiment] = 1\n",
    "                else:\n",
    "                    all_words[word]['q'] += 1\n",
    "                    if sentiment in all_words[word]:\n",
    "                        all_words[word][sentiment] += 1\n",
    "                    else:\n",
    "                        all_words[word][sentiment] = 1\n",
    "        \n",
    "        #turn the dictionary into dataframe\n",
    "        words_df = pd.DataFrame.from_dict(all_words, orient=\"index\")\n",
    "        \n",
    "        #count distinct features for each sentiment\n",
    "        distinct_features = np.zeros(scale)\n",
    "        for i in range(scale):\n",
    "            features_in_sentiment = words_df[i] > 0\n",
    "            distinct_features[i] = words_df[features_in_sentiment].shape[0]\n",
    "    \n",
    "        #apply Laplace smoothing\n",
    "        for i in range(scale):\n",
    "            words_df[i] = (words_df[i] + 1) / (distinct_features[i] + words_df.shape[0])\n",
    "    \n",
    "        return words_df"
   ]
  },
  {
   "cell_type": "code",
   "execution_count": null,
   "metadata": {},
   "outputs": [],
   "source": []
  },
  {
   "cell_type": "markdown",
   "metadata": {},
   "source": [
    "Functions used for classification"
   ]
  },
  {
   "cell_type": "code",
   "execution_count": 5,
   "metadata": {},
   "outputs": [],
   "source": [
    "def classify_set(dataset, model):\n",
    "    \"\"\"Predicts sentiment of samples in given dataset\n",
    "    \n",
    "    Args:\n",
    "        dataset (pandas.DataFrame): dataset to be classified\n",
    "        model   (Model): model to be used\n",
    "    \"\"\"\n",
    "    sentenceIds = []\n",
    "    true = []\n",
    "    predicted = []\n",
    "    for row in dataset.itertuples(index=None, name=None):\n",
    "        sentenceIds.append(row[0])\n",
    "        prediction = classify_sentence(row[1], model)\n",
    "        if (len(row) > 2):\n",
    "            true.append(row[2])\n",
    "        predicted.append(prediction)\n",
    "    \n",
    "    # build result dataframe\n",
    "    results = {'sentence_id': sentenceIds,\n",
    "               'sentiment_value': predicted}\n",
    "    \n",
    "    results_df = pd.DataFrame(results, columns = ['sentence_id', 'sentiment_value'], index=None)\n",
    "    \n",
    "    if len(true) > 1:\n",
    "        return results_df, true, predicted\n",
    "    else:\n",
    "        return results_df\n",
    "        \n",
    "        \n",
    "#classifies a single sentence\n",
    "def classify_sentence(sentence, model):\n",
    "    \"\"\"Predicts sentiment of a single sentence\n",
    "    \n",
    "    Args:\n",
    "        sentence (string): The string to be classified\n",
    "        model    (Model): model to be used\n",
    "    \"\"\"\n",
    "    words = sentence.split(' ')\n",
    "    \n",
    "    p = np.copy(model.priors)\n",
    "    \n",
    "    for word in words:\n",
    "        if word in model.features.index:\n",
    "            row = model.features.loc[word]\n",
    "            for i in range(model.scale):\n",
    "                p[i] *= row[i]\n",
    "                \n",
    "    return np.argmax(p)\n",
    "    \n",
    "\n",
    "def build_cf(true, predicted, scale):\n",
    "    \"\"\"Creates a confusion matrix\n",
    "    Args:\n",
    "        true      (list): list of true labels\n",
    "        predicted (list): list of labels predicted by the model\n",
    "        scale     (int): scale for the classification (3 or 5)\n",
    "    \"\"\"\n",
    "    print('Accuracy:', get_accuracy(true,predicted), '%')\n",
    "    cf = np.zeros((scale, scale))\n",
    "    \n",
    "    for i in range(len(true)):\n",
    "        cf[predicted[i]][true[i]] += 1\n",
    "        \n",
    "    sns.heatmap(cf, annot=True, fmt='g')\n",
    "\n",
    "\n",
    "def get_accuracy(true, predicted):\n",
    "    \"\"\"Calculates accuracy of predictions\"\"\"\n",
    "    correct = 0\n",
    "    for i in range(len(true)):\n",
    "        if true[i] == predicted[i]:\n",
    "            correct += 1\n",
    "    \n",
    "    return round((correct / len(true)) * 100, 2)"
   ]
  },
  {
   "cell_type": "code",
   "execution_count": 6,
   "metadata": {},
   "outputs": [
    {
     "name": "stdout",
     "output_type": "stream",
     "text": [
      "Classification with all words, no pre-processing\n",
      "5-value scale\n",
      "Accuracy: 39.0 %\n"
     ]
    },
    {
     "data": {
      "image/png": "[encoded data removed]",
      "text/plain": [
       "<Figure size 432x288 with 2 Axes>"
      ]
     },
     "metadata": {
      "needs_background": "light"
     },
     "output_type": "display_data"
    }
   ],
   "source": [
    "model_base_5 = Model(train5, 5)\n",
    "\n",
    "print('Classification with all words, no pre-processing')\n",
    "print('5-value scale')\n",
    "result, true, predicted = classify_set(dev5, model_base_5)\n",
    "\n",
    "build_cf(true, predicted, model_base_5.scale)"
   ]
  },
  {
   "cell_type": "code",
   "execution_count": 7,
   "metadata": {},
   "outputs": [
    {
     "name": "stdout",
     "output_type": "stream",
     "text": [
      "Classification with all words, no pre-processing\n",
      "3-value scale\n",
      "Accuracy: 62.2 %\n"
     ]
    },
    {
     "data": {
      "image/png": "[encoded data removed]",
      "text/plain": [
       "<Figure size 432x288 with 2 Axes>"
      ]
     },
     "metadata": {
      "needs_background": "light"
     },
     "output_type": "display_data"
    }
   ],
   "source": [
    "model_base_3 = Model(train3, 3)\n",
    "\n",
    "result, true, predicted = classify_set(dev3, model_base_3)\n",
    "\n",
    "print('Classification with all words, no pre-processing')\n",
    "print('3-value scale')\n",
    "build_cf(true, predicted, model_base_3.scale)"
   ]
  },
  {
   "cell_type": "markdown",
   "metadata": {},
   "source": [
    "Data pre-processing"
   ]
  },
  {
   "cell_type": "code",
   "execution_count": 8,
   "metadata": {},
   "outputs": [],
   "source": [
    "train5_processed = train5.copy()\n",
    "dev5_processed = dev5.copy()"
   ]
  },
  {
   "cell_type": "code",
   "execution_count": 9,
   "metadata": {},
   "outputs": [],
   "source": [
    "#Lowercaing\n",
    "train5_processed.Phrase = train5_processed.Phrase.str.lower()\n",
    "dev5_processed.Phrase = dev5_processed.Phrase.str.lower()\n",
    "test.Phrase = test.Phrase.str.lower()"
   ]
  },
  {
   "cell_type": "code",
   "execution_count": 10,
   "metadata": {},
   "outputs": [],
   "source": [
    "#Mark negated words\n",
    "affected_pos = ['VB', 'VBD', 'VBG', 'VBN', 'VBP', 'VBZ', 'JJ', 'JJR', 'JJS']\n",
    "\n",
    "def markNegatedWords(phrase):\n",
    "    old = phrase.split()\n",
    "    old_tagged = nltk.pos_tag(old)\n",
    "    new = nltk.sentiment.util.mark_negation(old)\n",
    "    final = []\n",
    "    for i in range(len(new)):\n",
    "        if old_tagged[i][1] in affected_pos:\n",
    "            final.append(new[i])\n",
    "        else:\n",
    "            final.append(old[i])\n",
    "            \n",
    "    return ' '.join(final)\n",
    "\n",
    "train5_processed.Phrase = train5_processed.Phrase.apply(markNegatedWords)\n",
    "dev5_processed.Phrase = dev5_processed.Phrase.apply(markNegatedWords)\n",
    "test.Phrase = test.Phrase.apply(markNegatedWords)"
   ]
  },
  {
   "cell_type": "code",
   "execution_count": 11,
   "metadata": {},
   "outputs": [],
   "source": [
    "to_remove = [',', '.', '\\'', '\\\"', '!', '?', ':']\n",
    "\n",
    "#Noise removal\n",
    "def removeNoise(phrase):    \n",
    "    new = [word for word in phrase.split(' ') if word not in to_remove]\n",
    "    return ' '.join(new)\n",
    "\n",
    "\n",
    "train5_processed.Phrase = train5_processed.Phrase.apply(removeNoise)\n",
    "dev5_processed.Phrase = dev5_processed.Phrase.apply(removeNoise)\n",
    "test.Phrase = test.Phrase.apply(removeNoise)"
   ]
  },
  {
   "cell_type": "code",
   "execution_count": 12,
   "metadata": {},
   "outputs": [],
   "source": [
    "#Stop-word removal\n",
    "stop = stopwords.words('english')\n",
    "\n",
    "def removeStopWords(phrase):    \n",
    "    new = [word for word in phrase.split(' ') if word not in stop]\n",
    "    return ' '.join(new)\n",
    "    \n",
    "\n",
    "train5_processed.Phrase = train5_processed.Phrase.apply(removeStopWords)\n",
    "dev5_processed.Phrase = dev5_processed.Phrase.apply(removeStopWords)\n",
    "test.Phrase = test.Phrase.apply(removeStopWords)"
   ]
  },
  {
   "cell_type": "code",
   "execution_count": 13,
   "metadata": {},
   "outputs": [],
   "source": [
    "#create datasets with 3-value scale\n",
    "train3_processed = train5_processed.copy()\n",
    "train3_processed.Sentiment = train3_processed.Sentiment.apply(five2three)\n",
    "dev3_processed = dev5_processed.copy()\n",
    "dev3_processed.Sentiment = dev3_processed.Sentiment.apply(five2three)"
   ]
  },
  {
   "cell_type": "markdown",
   "metadata": {},
   "source": [
    "Classification results for pre processed data"
   ]
  },
  {
   "cell_type": "code",
   "execution_count": 14,
   "metadata": {},
   "outputs": [
    {
     "name": "stdout",
     "output_type": "stream",
     "text": [
      "Classification with all words and pre-processing\n",
      "5-value scale\n",
      "Accuracy: 40.7 %\n"
     ]
    },
    {
     "data": {
      "image/png": "[encoded data removed]",
      "text/plain": [
       "<Figure size 432x288 with 2 Axes>"
      ]
     },
     "metadata": {
      "needs_background": "light"
     },
     "output_type": "display_data"
    }
   ],
   "source": [
    "model_processed_5 = Model(train5_processed, 5)\n",
    "\n",
    "print('Classification with all words and pre-processing')\n",
    "print('5-value scale')\n",
    "result, true, predicted = classify_set(dev5_processed, model_processed_5)\n",
    "\n",
    "#result.to_csv('dev_predictions_5classes_Michal_JARMOCIK.tsv',sep='\\t')\n",
    "\n",
    "build_cf(true, predicted, model_processed_5.scale)"
   ]
  },
  {
   "cell_type": "code",
   "execution_count": 15,
   "metadata": {},
   "outputs": [
    {
     "name": "stdout",
     "output_type": "stream",
     "text": [
      "Classification with all words and pre-processing\n",
      "3-value scale\n",
      "Accuracy: 65.0 %\n"
     ]
    },
    {
     "data": {
      "image/png": "[encoded data removed]",
      "text/plain": [
       "<Figure size 432x288 with 2 Axes>"
      ]
     },
     "metadata": {
      "needs_background": "light"
     },
     "output_type": "display_data"
    }
   ],
   "source": [
    "model_processed_3= Model(train3_processed, 3)\n",
    "\n",
    "print('Classification with all words and pre-processing')\n",
    "print('3-value scale')\n",
    "result, true, predicted = classify_set(dev3_processed, model_processed_3)\n",
    "#result.to_csv('dev_predictions_3classes_Michal_JARMOCIK.tsv',sep='\\t')\n",
    "\n",
    "build_cf(true, predicted, model_processed_3.scale)"
   ]
  },
  {
   "cell_type": "code",
   "execution_count": 16,
   "metadata": {},
   "outputs": [
    {
     "name": "stdout",
     "output_type": "stream",
     "text": [
      "Second model features\n"
     ]
    },
    {
     "data": {
      "text/html": [
       "<div>\n",
       "<style scoped>\n",
       "    .dataframe tbody tr th:only-of-type {\n",
       "        vertical-align: middle;\n",
       "    }\n",
       "\n",
       "    .dataframe tbody tr th {\n",
       "        vertical-align: top;\n",
       "    }\n",
       "\n",
       "    .dataframe thead th {\n",
       "        text-align: right;\n",
       "    }\n",
       "</style>\n",
       "<table border=\"1\" class=\"dataframe\">\n",
       "  <thead>\n",
       "    <tr style=\"text-align: right;\">\n",
       "      <th></th>\n",
       "      <th>q</th>\n",
       "      <th>0</th>\n",
       "      <th>1</th>\n",
       "      <th>2</th>\n",
       "    </tr>\n",
       "  </thead>\n",
       "  <tbody>\n",
       "    <tr>\n",
       "      <th>series</th>\n",
       "      <td>43</td>\n",
       "      <td>0.000915</td>\n",
       "      <td>0.000305</td>\n",
       "      <td>0.000567</td>\n",
       "    </tr>\n",
       "    <tr>\n",
       "      <th>escapades</th>\n",
       "      <td>1</td>\n",
       "      <td>0.000076</td>\n",
       "      <td>0.000044</td>\n",
       "      <td>0.000038</td>\n",
       "    </tr>\n",
       "    <tr>\n",
       "      <th>demonstrating</th>\n",
       "      <td>3</td>\n",
       "      <td>0.000114</td>\n",
       "      <td>0.000044</td>\n",
       "      <td>0.000076</td>\n",
       "    </tr>\n",
       "    <tr>\n",
       "      <th>adage</th>\n",
       "      <td>3</td>\n",
       "      <td>0.000076</td>\n",
       "      <td>0.000044</td>\n",
       "      <td>0.000113</td>\n",
       "    </tr>\n",
       "    <tr>\n",
       "      <th>good</th>\n",
       "      <td>181</td>\n",
       "      <td>0.001830</td>\n",
       "      <td>0.001571</td>\n",
       "      <td>0.003781</td>\n",
       "    </tr>\n",
       "    <tr>\n",
       "      <th>...</th>\n",
       "      <td>...</td>\n",
       "      <td>...</td>\n",
       "      <td>...</td>\n",
       "      <td>...</td>\n",
       "    </tr>\n",
       "    <tr>\n",
       "      <th>low-wattage</th>\n",
       "      <td>1</td>\n",
       "      <td>0.000076</td>\n",
       "      <td>0.000044</td>\n",
       "      <td>0.000038</td>\n",
       "    </tr>\n",
       "    <tr>\n",
       "      <th>shiver</th>\n",
       "      <td>1</td>\n",
       "      <td>0.000038</td>\n",
       "      <td>0.000087</td>\n",
       "      <td>0.000038</td>\n",
       "    </tr>\n",
       "    <tr>\n",
       "      <th>reviewed</th>\n",
       "      <td>1</td>\n",
       "      <td>0.000038</td>\n",
       "      <td>0.000087</td>\n",
       "      <td>0.000038</td>\n",
       "    </tr>\n",
       "    <tr>\n",
       "      <th>deliberateness</th>\n",
       "      <td>1</td>\n",
       "      <td>0.000076</td>\n",
       "      <td>0.000044</td>\n",
       "      <td>0.000038</td>\n",
       "    </tr>\n",
       "    <tr>\n",
       "      <th>espoused</th>\n",
       "      <td>1</td>\n",
       "      <td>0.000038</td>\n",
       "      <td>0.000044</td>\n",
       "      <td>0.000076</td>\n",
       "    </tr>\n",
       "  </tbody>\n",
       "</table>\n",
       "<p>16762 rows × 4 columns</p>\n",
       "</div>"
      ],
      "text/plain": [
       "                  q         0         1         2\n",
       "series           43  0.000915  0.000305  0.000567\n",
       "escapades         1  0.000076  0.000044  0.000038\n",
       "demonstrating     3  0.000114  0.000044  0.000076\n",
       "adage             3  0.000076  0.000044  0.000113\n",
       "good            181  0.001830  0.001571  0.003781\n",
       "...             ...       ...       ...       ...\n",
       "low-wattage       1  0.000076  0.000044  0.000038\n",
       "shiver            1  0.000038  0.000087  0.000038\n",
       "reviewed          1  0.000038  0.000087  0.000038\n",
       "deliberateness    1  0.000076  0.000044  0.000038\n",
       "espoused          1  0.000038  0.000044  0.000076\n",
       "\n",
       "[16762 rows x 4 columns]"
      ]
     },
     "execution_count": 16,
     "metadata": {},
     "output_type": "execute_result"
    }
   ],
   "source": [
    "print(\"Second model features\")\n",
    "model_processed_3.features"
   ]
  },
  {
   "cell_type": "code",
   "execution_count": 17,
   "metadata": {},
   "outputs": [],
   "source": [
    "#Test set classification\n",
    "#result = classify_set(test, model_processed_5)\n",
    "#result.to_csv('test_predictions_5classes_Michal_JARMOCIK.tsv',sep='\\t')\n",
    "\n",
    "#result = classify_set(test, model_processed_3)\n",
    "#result.to_csv('test_predictions_3classes_Michal_JARMOCIK.tsv',sep='\\t')"
   ]
  },
  {
   "cell_type": "markdown",
   "metadata": {},
   "source": [
    "Classification with feature selection"
   ]
  },
  {
   "cell_type": "code",
   "execution_count": 18,
   "metadata": {},
   "outputs": [],
   "source": [
    "# creating function for selecting a subset of features carrying most information\n",
    "\n",
    "def feature_selection(features):\n",
    "    # calculate variance for each feature\n",
    "    features['var'] = features.apply(lambda x: np.var(x.values[1:]), axis=1)\n",
    "    \n",
    "    # select features with variance higher than cut off value\n",
    "    var_cutoff = 0.000000001\n",
    "    high_var =  features['var'] > var_cutoff\n",
    "    \n",
    "    # select features wich are present in dataset at least twice\n",
    "    high_count = features['q'] > 1\n",
    "    \n",
    "    return features[high_var & high_count]"
   ]
  },
  {
   "cell_type": "code",
   "execution_count": 19,
   "metadata": {},
   "outputs": [
    {
     "name": "stdout",
     "output_type": "stream",
     "text": [
      "Classification with subset of words and pre-processing\n",
      "5-value scale\n",
      "Accuracy: 39.9 %\n"
     ]
    },
    {
     "data": {
      "image/png": "[encoded data removed]",
      "text/plain": [
       "<Figure size 432x288 with 2 Axes>"
      ]
     },
     "metadata": {
      "needs_background": "light"
     },
     "output_type": "display_data"
    }
   ],
   "source": [
    "model_final_5 = Model(train5_processed, 5, feature_selection)\n",
    "\n",
    "print('Classification with subset of words and pre-processing')\n",
    "print('5-value scale')\n",
    "result, true, predicted = classify_set(dev5_processed, model_final_5)\n",
    "build_cf(true, predicted, model_final_5.scale)"
   ]
  },
  {
   "cell_type": "code",
   "execution_count": 20,
   "metadata": {},
   "outputs": [
    {
     "name": "stdout",
     "output_type": "stream",
     "text": [
      "Classification with subset of words and pre-processing\n",
      "3-value scale\n",
      "Accuracy: 63.7 %\n"
     ]
    },
    {
     "data": {
      "image/png": "[encoded data removed]",
      "text/plain": [
       "<Figure size 432x288 with 2 Axes>"
      ]
     },
     "metadata": {
      "needs_background": "light"
     },
     "output_type": "display_data"
    }
   ],
   "source": [
    "model_final_3 = Model(train3_processed, 3, feature_selection)\n",
    "\n",
    "print('Classification with subset of words and pre-processing')\n",
    "print('3-value scale')\n",
    "result, true, predicted = classify_set(dev3_processed, model_final_3)\n",
    "build_cf(true, predicted, model_final_3.scale)"
   ]
  },
  {
   "cell_type": "code",
   "execution_count": 21,
   "metadata": {},
   "outputs": [
    {
     "name": "stdout",
     "output_type": "stream",
     "text": [
      "Final model features\n"
     ]
    },
    {
     "data": {
      "text/html": [
       "<div>\n",
       "<style scoped>\n",
       "    .dataframe tbody tr th:only-of-type {\n",
       "        vertical-align: middle;\n",
       "    }\n",
       "\n",
       "    .dataframe tbody tr th {\n",
       "        vertical-align: top;\n",
       "    }\n",
       "\n",
       "    .dataframe thead th {\n",
       "        text-align: right;\n",
       "    }\n",
       "</style>\n",
       "<table border=\"1\" class=\"dataframe\">\n",
       "  <thead>\n",
       "    <tr style=\"text-align: right;\">\n",
       "      <th></th>\n",
       "      <th>q</th>\n",
       "      <th>0</th>\n",
       "      <th>1</th>\n",
       "      <th>2</th>\n",
       "      <th>var</th>\n",
       "    </tr>\n",
       "  </thead>\n",
       "  <tbody>\n",
       "    <tr>\n",
       "      <th>series</th>\n",
       "      <td>43</td>\n",
       "      <td>0.000915</td>\n",
       "      <td>0.000305</td>\n",
       "      <td>0.000567</td>\n",
       "      <td>6.232642e-08</td>\n",
       "    </tr>\n",
       "    <tr>\n",
       "      <th>good</th>\n",
       "      <td>181</td>\n",
       "      <td>0.001830</td>\n",
       "      <td>0.001571</td>\n",
       "      <td>0.003781</td>\n",
       "      <td>9.731701e-07</td>\n",
       "    </tr>\n",
       "    <tr>\n",
       "      <th>goose</th>\n",
       "      <td>3</td>\n",
       "      <td>0.000114</td>\n",
       "      <td>0.000087</td>\n",
       "      <td>0.000038</td>\n",
       "      <td>1.004653e-09</td>\n",
       "    </tr>\n",
       "    <tr>\n",
       "      <th>also</th>\n",
       "      <td>100</td>\n",
       "      <td>0.000953</td>\n",
       "      <td>0.000916</td>\n",
       "      <td>0.002155</td>\n",
       "      <td>3.312308e-07</td>\n",
       "    </tr>\n",
       "    <tr>\n",
       "      <th>occasionally</th>\n",
       "      <td>27</td>\n",
       "      <td>0.000343</td>\n",
       "      <td>0.000393</td>\n",
       "      <td>0.000454</td>\n",
       "      <td>2.046479e-09</td>\n",
       "    </tr>\n",
       "    <tr>\n",
       "      <th>...</th>\n",
       "      <td>...</td>\n",
       "      <td>...</td>\n",
       "      <td>...</td>\n",
       "      <td>...</td>\n",
       "      <td>...</td>\n",
       "    </tr>\n",
       "    <tr>\n",
       "      <th>drown</th>\n",
       "      <td>2</td>\n",
       "      <td>0.000114</td>\n",
       "      <td>0.000044</td>\n",
       "      <td>0.000038</td>\n",
       "      <td>1.210918e-09</td>\n",
       "    </tr>\n",
       "    <tr>\n",
       "      <th>exploiting_NEG</th>\n",
       "      <td>2</td>\n",
       "      <td>0.000114</td>\n",
       "      <td>0.000044</td>\n",
       "      <td>0.000038</td>\n",
       "      <td>1.210918e-09</td>\n",
       "    </tr>\n",
       "    <tr>\n",
       "      <th>pore</th>\n",
       "      <td>2</td>\n",
       "      <td>0.000114</td>\n",
       "      <td>0.000044</td>\n",
       "      <td>0.000038</td>\n",
       "      <td>1.210918e-09</td>\n",
       "    </tr>\n",
       "    <tr>\n",
       "      <th>numbered</th>\n",
       "      <td>2</td>\n",
       "      <td>0.000038</td>\n",
       "      <td>0.000044</td>\n",
       "      <td>0.000113</td>\n",
       "      <td>1.174760e-09</td>\n",
       "    </tr>\n",
       "    <tr>\n",
       "      <th>approaching</th>\n",
       "      <td>2</td>\n",
       "      <td>0.000114</td>\n",
       "      <td>0.000044</td>\n",
       "      <td>0.000038</td>\n",
       "      <td>1.210918e-09</td>\n",
       "    </tr>\n",
       "  </tbody>\n",
       "</table>\n",
       "<p>4837 rows × 5 columns</p>\n",
       "</div>"
      ],
      "text/plain": [
       "                  q         0         1         2           var\n",
       "series           43  0.000915  0.000305  0.000567  6.232642e-08\n",
       "good            181  0.001830  0.001571  0.003781  9.731701e-07\n",
       "goose             3  0.000114  0.000087  0.000038  1.004653e-09\n",
       "also            100  0.000953  0.000916  0.002155  3.312308e-07\n",
       "occasionally     27  0.000343  0.000393  0.000454  2.046479e-09\n",
       "...             ...       ...       ...       ...           ...\n",
       "drown             2  0.000114  0.000044  0.000038  1.210918e-09\n",
       "exploiting_NEG    2  0.000114  0.000044  0.000038  1.210918e-09\n",
       "pore              2  0.000114  0.000044  0.000038  1.210918e-09\n",
       "numbered          2  0.000038  0.000044  0.000113  1.174760e-09\n",
       "approaching       2  0.000114  0.000044  0.000038  1.210918e-09\n",
       "\n",
       "[4837 rows x 5 columns]"
      ]
     },
     "execution_count": 21,
     "metadata": {},
     "output_type": "execute_result"
    }
   ],
   "source": [
    "print('Final model features')\n",
    "model_final_3.features"
   ]
  },
  {
   "cell_type": "code",
   "execution_count": null,
   "metadata": {},
   "outputs": [],
   "source": []
  }
 ],
 "metadata": {
  "kernelspec": {
   "display_name": "Python 3",
   "language": "python",
   "name": "python3"
  },
  "language_info": {
   "codemirror_mode": {
    "name": "ipython",
    "version": 3
   },
   "file_extension": ".py",
   "mimetype": "text/x-python",
   "name": "python",
   "nbconvert_exporter": "python",
   "pygments_lexer": "ipython3",
   "version": "3.7.4"
  }
 },
 "nbformat": 4,
 "nbformat_minor": 4
}
